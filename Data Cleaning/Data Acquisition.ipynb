{
 "cells": [
  {
   "cell_type": "code",
   "execution_count": 1,
   "metadata": {},
   "outputs": [],
   "source": [
    "import requests\n",
    "from bs4 import BeautifulSoup as soup\n",
    "import pandas as pd"
   ]
  },
  {
   "cell_type": "code",
   "execution_count": 2,
   "metadata": {},
   "outputs": [],
   "source": [
    " urls = ['http://www.nfl.com/player/derrickhenry/2556075/gamelogs',\n",
    "          'http://www.nfl.com/player/nickchubb/2561021/gamelogs',\n",
    "          'http://www.nfl.com/player/christianmccaffrey/2557997/gamelogs',\n",
    "          'http://www.nfl.com/player/ezekielelliott/2555224/gamelogs',\n",
    "          'http://www.nfl.com/player/chriscarson/2558865/gamelogs',\n",
    "          'http://www.nfl.com/player/lamarjackson/2560757/gamelogs',\n",
    "          'http://www.nfl.com/player/leonardfournette/2557973/gamelogs',\n",
    "          'http://www.nfl.com/player/joshjacobs/2562377/gamelogs',\n",
    "          'http://www.nfl.com/player/joemixon/2557976/gamelogs',\n",
    "          'http://www.nfl.com/player/dalvincook/2557991/gamelogs',\n",
    "          'http://www.nfl.com/player/marlonmack/2558123/gamelogs',\n",
    "          'http://www.nfl.com/player/aaronjones/2558116/gamelogs',\n",
    "          'http://www.nfl.com/player/carloshyde/2543743/gamelogs',\n",
    "          'http://www.nfl.com/player/markingram/2495466/gamelogs',\n",
    "          'http://www.nfl.com/player/philliplindsay/2559947/gamelogs',\n",
    "          'http://www.nfl.com/player/saquonbarkley/2560968/gamelogs',\n",
    "          'http://www.nfl.com/player/sonymichel/2560809/gamelogs',\n",
    "          'http://www.nfl.com/player/adrianpeterson/2507164/gamelogs',\n",
    "          'http://www.nfl.com/player/davidmontgomery/2562502/gamelogs',\n",
    "          'http://www.nfl.com/player/toddgurley/2552475/gamelogs',\n",
    "          'http://www.nfl.com/player/milessanders/2562722/gamelogs',\n",
    "          'http://www.nfl.com/player/alvinkamara/2558019/gamelogs',\n",
    "          \"http://www.nfl.com/player/le'veonbell/2540175/gamelogs\",\n",
    "          'http://www.nfl.com/player/devinsingletary/2562734/gamelogs',\n",
    "          'http://www.nfl.com/player/raheemmostert/2553728/gamelogs',\n",
    "          'http://www.nfl.com/player/ronaldjones/2560770/gamelogs',\n",
    "          'http://www.nfl.com/player/gusedwards/2561324/gamelogs',\n",
    "          'http://www.nfl.com/player/devontafreeman/2543583/gamelogs',\n",
    "          'http://www.nfl.com/player/kenyandrake/2555230/gamelogs',\n",
    "          'http://www.nfl.com/player/lataviusmurray/2541161/gamelogs',\n",
    "          'http://www.nfl.com/player/mattbreida/2558918/gamelogs',\n",
    "          'http://www.nfl.com/player/melvingordon/2552469/gamelogs',\n",
    "          'http://www.nfl.com/player/frankgore/2506404/gamelogs',\n",
    "          'http://www.nfl.com/player/austinekeler/2559169/gamelogs',\n",
    "          'http://www.nfl.com/player/tevincoleman/2552453/gamelogs',\n",
    "          'http://www.nfl.com/player/kylermurray/2562382/gamelogs',\n",
    "          'http://www.nfl.com/player/jordanhoward/2555418/gamelogs',\n",
    "          'http://www.nfl.com/player/joshallen/2560955/gamelogs',\n",
    "          'http://www.nfl.com/player/damienwilliams/2550512/gamelogs',\n",
    "          'http://www.nfl.com/player/roycefreeman/2560733/gamelogs',\n",
    "          'http://www.nfl.com/player/peytonbarber/2556466/gamelogs',\n",
    "          'http://www.nfl.com/player/leseanmccoy/79607/gamelogs',\n",
    "          'http://www.nfl.com/player/jamesconner/2557978/gamelogs',\n",
    "          'http://www.nfl.com/player/alexandermattison/2562682/gamelogs',\n",
    "          'http://www.nfl.com/player/jamaalwilliams/2558204/gamelogs',\n",
    "          'http://www.nfl.com/player/tonypollard/2562699/gamelogs',\n",
    "          'http://www.nfl.com/player/bennysnell/2562743/gamelogs',\n",
    "          'http://www.nfl.com/player/deshaunwatson/2558063/gamelogs',\n",
    "          'http://www.nfl.com/player/dukejohnson/2552461/gamelogs',\n",
    "          'http://www.nfl.com/player/kerryonjohnson/2560765/gamelogs']"
   ]
  },
  {
   "cell_type": "code",
   "execution_count": 3,
   "metadata": {},
   "outputs": [],
   "source": [
    "def acquire_stats(url):\n",
    "    r = requests.get(url)\n",
    "    c = r.content\n",
    "\n",
    "    page = soup(c,'html.parser')\n",
    "\n",
    "    #data-table1 is the standard class for NFL.com stats tables \n",
    "    reg = page.findAll(\"table\",{\"class\":\"data-table1\"})\n",
    "    for element in reg:\n",
    "        if reg.index(element) == 1:\n",
    "            table = element.find(\"tbody\").findAll(\"tr\") #for multiple tables in game logs, index 1 gives regular season\n",
    "        elif len(reg) < 2:\n",
    "            table = element.find(\"tbody\").findAll(\"tr\") #some pages only have regular season table\n",
    "            \n",
    "\n",
    "    #empty lists to append values to\n",
    "    rows = []\n",
    "    log = [] \n",
    "\n",
    "    #create a list with all of the td elements in the table\n",
    "    for row in table:\n",
    "        rows.append(row.findAll(\"td\"))\n",
    "    #iterate through the lists and retrieve the text elements, also removing line spacing characters\n",
    "    for i in range(0,len(rows)):\n",
    "        log.append([td.text.replace('\\n','').replace('\\t','').replace('\\r','').replace('\\xa0','').replace('@','') for td in rows[i]])\n",
    "    del log[1::2] \n",
    "    del reg\n",
    "    del table\n",
    "    return log\n",
    "    "
   ]
  },
  {
   "cell_type": "code",
   "execution_count": 4,
   "metadata": {},
   "outputs": [
    {
     "data": {
      "text/plain": [
       "50"
      ]
     },
     "execution_count": 4,
     "metadata": {},
     "output_type": "execute_result"
    }
   ],
   "source": [
    "len(urls)"
   ]
  },
  {
   "cell_type": "code",
   "execution_count": 5,
   "metadata": {
    "scrolled": true
   },
   "outputs": [],
   "source": [
    "rb_stats=[acquire_stats(url) for url in urls]"
   ]
  },
  {
   "cell_type": "code",
   "execution_count": 6,
   "metadata": {},
   "outputs": [],
   "source": [
    "players = ['Derrick Henry','Nick Chubb','Christian McCaffrey','Ezekiel Elliott','Chris Carson','Lamar Jackson',\n",
    "          'Leonard Fournette','Josh Jacobs','Joe Mixon','Dalvin Cook','Marlon Mack','Aaron Jones','Carlos Hyde',\n",
    "          'Mark Ingram','Phillip Lindsay','Saquon Barkley','Sony Michel','Adrian Peterson','David Montgomery',\n",
    "          'Todd Gurley','Miles Sanders','Alvin Kamara',\"Le'Veon Bell\",'Devin Singletary','Raheem Mostert',\n",
    "          'Ronald Jones','Gus Edwards','Devonta Freeman','Kenyan Drake','Latavius Murray','Matt Breida',\n",
    "          'Melvin Gordon','Frank Gore','Austin Ekeler','Tevin Coleman','Kyler Murray','Jordan Howard','Josh Allen',\n",
    "          'Damien Williams','Royce Freeman','Peyton Barber','LeSean McCoy','James Conner','Alexander Mattison',\n",
    "          'Jamaal Williams','Tony Pollard','Benny Snell','Deshaun Watson','Duke Johnson','Kerryon Johnson']"
   ]
  },
  {
   "cell_type": "code",
   "execution_count": 7,
   "metadata": {},
   "outputs": [],
   "source": [
    "#create a dictionary from list of players and all of the stats retrieved\n",
    "rushers = dict(zip(players,rb_stats))"
   ]
  },
  {
   "cell_type": "code",
   "execution_count": 8,
   "metadata": {},
   "outputs": [],
   "source": [
    "#create a dictionary of dataframes with the player names as the keys and dataframes as values\n",
    "stats = {player : pd.DataFrame(data=rushers[player]) for player in players}"
   ]
  },
  {
   "cell_type": "code",
   "execution_count": 9,
   "metadata": {
    "scrolled": true
   },
   "outputs": [],
   "source": [
    "qbs = ['Lamar Jackson','Kyler Murray','Josh Allen','Deshaun Watson']\n",
    "for player in stats:\n",
    "    if player in qbs:\n",
    "        #drops all columns not related to rushing for quarterbacks\n",
    "        stats[player] = stats[player].drop(axis=1,labels=[6,7,8,9,10,11,12,13,14,15])\n",
    "    elif player not in qbs:\n",
    "        #drops all columns not related to rushing for runningbacks\n",
    "        stats[player] = stats[player].drop(axis=1,labels=[11,12,13,14,15,16])  "
   ]
  },
  {
   "cell_type": "code",
   "execution_count": 10,
   "metadata": {},
   "outputs": [
    {
     "name": "stdout",
     "output_type": "stream",
     "text": [
      "Derrick Henry 12\n",
      "Nick Chubb 12\n",
      "Christian McCaffrey 12\n",
      "Ezekiel Elliott 12\n",
      "Chris Carson 12\n",
      "Lamar Jackson 12\n",
      "Leonard Fournette 12\n",
      "Josh Jacobs 12\n",
      "Joe Mixon 12\n",
      "Dalvin Cook 12\n",
      "Marlon Mack 12\n",
      "Aaron Jones 12\n",
      "Carlos Hyde 12\n",
      "Mark Ingram 12\n",
      "Phillip Lindsay 12\n",
      "Saquon Barkley 12\n",
      "Sony Michel 12\n",
      "Adrian Peterson 12\n",
      "David Montgomery 12\n",
      "Todd Gurley 12\n",
      "Miles Sanders 12\n",
      "Alvin Kamara 12\n",
      "Le'Veon Bell 12\n",
      "Devin Singletary 12\n",
      "Raheem Mostert 12\n",
      "Ronald Jones 12\n",
      "Gus Edwards 12\n",
      "Devonta Freeman 12\n",
      "Kenyan Drake 12\n",
      "Latavius Murray 12\n",
      "Matt Breida 12\n",
      "Melvin Gordon 12\n",
      "Frank Gore 12\n",
      "Austin Ekeler 12\n",
      "Tevin Coleman 12\n",
      "Kyler Murray 12\n",
      "Jordan Howard 12\n",
      "Josh Allen 12\n",
      "Damien Williams 12\n",
      "Royce Freeman 12\n",
      "Peyton Barber 12\n",
      "LeSean McCoy 12\n",
      "James Conner 12\n",
      "Alexander Mattison 12\n",
      "Jamaal Williams 12\n",
      "Tony Pollard 12\n",
      "Benny Snell 12\n",
      "Deshaun Watson 12\n",
      "Duke Johnson 12\n",
      "Kerryon Johnson 12\n"
     ]
    }
   ],
   "source": [
    "for player in stats:\n",
    "    #I want to make sure all players have the same number of columns so I can give them all equal column labels\n",
    "    print(player,len(stats[player].columns)) "
   ]
  },
  {
   "cell_type": "code",
   "execution_count": 11,
   "metadata": {},
   "outputs": [],
   "source": [
    "columns = ['week','date','opp','result','played','started','att','yds','avg','lng','fum','lost']\n",
    "for player in stats:\n",
    "    stats[player].columns = columns #give names to columns\n",
    "    stats[player] = stats[player].drop(stats[player].index.max()) #remove last row of table since it's unorganized"
   ]
  },
  {
   "cell_type": "code",
   "execution_count": 12,
   "metadata": {},
   "outputs": [],
   "source": [
    "numcol = ['week','played','started','att','yds','avg','fum','lost']\n",
    "for player in stats:\n",
    "    for col in numcol:\n",
    "        #converts column values from numcol to numeric datatypes, lng is intentionally left out\n",
    "        stats[player][col] = stats[player][col].apply(pd.to_numeric, errors='coerce') \n",
    "        #fills all NaN values with zero\n",
    "        stats[player] = stats[player].fillna(value=0)"
   ]
  },
  {
   "cell_type": "code",
   "execution_count": 13,
   "metadata": {},
   "outputs": [],
   "source": [
    "#reduce player dataframes to week, attempt, and yards columns\n",
    "weekly = {player: stats[player][['week','opp','att','yds']] for player in stats}"
   ]
  },
  {
   "cell_type": "code",
   "execution_count": 14,
   "metadata": {},
   "outputs": [],
   "source": [
    "#insert player names for each week they played\n",
    "for player in weekly:\n",
    "    weekly[player].insert(loc=0,allow_duplicates=True,column='player',value=player)"
   ]
  },
  {
   "cell_type": "code",
   "execution_count": 15,
   "metadata": {},
   "outputs": [],
   "source": [
    "# creates a list from weekly yards and sums the values to get total season yards week by week\n",
    "for player in weekly:\n",
    "    total = weekly[player].yds.to_list()\n",
    "    for i in range(1,len(total)):\n",
    "        total[i] = total[i] + total[i-1]\n",
    "    weekly[player].insert(loc=5,allow_duplicates=True,column='tot_yds',value=total)"
   ]
  },
  {
   "cell_type": "code",
   "execution_count": 16,
   "metadata": {},
   "outputs": [],
   "source": [
    "#take all player dataframes and concatenate them into one large dataframe\n",
    "weekly_stats = pd.concat(weekly,ignore_index=True)"
   ]
  },
  {
   "cell_type": "code",
   "execution_count": 17,
   "metadata": {},
   "outputs": [],
   "source": [
    "#strip whitespace from strings in opponent columns\n",
    "weekly_stats['opp'] = weekly_stats['opp'].str.strip()"
   ]
  },
  {
   "cell_type": "code",
   "execution_count": 18,
   "metadata": {},
   "outputs": [],
   "source": [
    "#now to take the dataframe and write it to a csv\n",
    "weekly_stats.to_csv('rushing_stats_2019',index=False)"
   ]
  }
 ],
 "metadata": {
  "kernelspec": {
   "display_name": "Python 3",
   "language": "python",
   "name": "python3"
  },
  "language_info": {
   "codemirror_mode": {
    "name": "ipython",
    "version": 3
   },
   "file_extension": ".py",
   "mimetype": "text/x-python",
   "name": "python",
   "nbconvert_exporter": "python",
   "pygments_lexer": "ipython3",
   "version": "3.7.3"
  }
 },
 "nbformat": 4,
 "nbformat_minor": 2
}
